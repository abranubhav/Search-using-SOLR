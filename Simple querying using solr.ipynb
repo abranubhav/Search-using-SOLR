{
 "cells": [
  {
   "cell_type": "markdown",
   "metadata": {},
   "source": [
    "# Simple Querying using SOLR"
   ]
  },
  {
   "cell_type": "markdown",
   "metadata": {},
   "source": [
    "## Installing and starting SOLR"
   ]
  },
  {
   "cell_type": "markdown",
   "metadata": {},
   "source": [
    "### Go to the following link and download SOLR from any mirror\n",
    "\n",
    "http://www.apache.org/dyn/closer.lua/lucene/solr/6.3.0\n",
    "\n",
    "### For Windows users :\n",
    "#### Open CMD and change directory to the SOLR directory(use cd)\n",
    "\n",
    "#### Go to the bin folder of solr directory, then type \n",
    "-- solr start -e cloud -noprompt\n",
    "##### Solr starts on port 8983 on default. Open the following link to see the SOLR \n",
    "\n",
    "http://localhost:8983/solr\n",
    "\n",
    "#### For indexing we use the Simple Post Tool\n",
    "#### To open Simple Post Tool(bin/post command doesn't work in Windows)\n",
    "-- java -jar example/exampledocs/post.jar -h\n",
    "\n",
    "#### To index the documents\n",
    "-- java -Dc=gettingstarted -Dauto=yes -Ddata=files -Drecursive=yes -jar example/exampledocs/post.jar docs/\n",
    "\n",
    "##### The above is for indexing the example dataset given in SOLR folder. For changing the datasets to be indexed, change location at the end of command"
   ]
  },
  {
   "cell_type": "markdown",
   "metadata": {},
   "source": [
    "## Function for simple querying from SOLR"
   ]
  },
  {
   "cell_type": "code",
   "execution_count": 1,
   "metadata": {
    "collapsed": true
   },
   "outputs": [
    {
     "name": "stderr",
     "output_type": "stream",
     "text": [
      "<ipython-input-1-3513f56bea86>:2: SyntaxWarning: import * only allowed at module level\n",
      "  def querying(search,num) :\n"
     ]
    }
   ],
   "source": [
    "# Function to return documents\n",
    "def querying(search,num) :\n",
    "    from urllib2 import *\n",
    "    connection = urlopen(\n",
    "                   'http://localhost:8983/solr/Newsgroup/select?q='+ search + '&rows=' + str(num) +'&start=0&wt=python')\n",
    "    response = eval(connection.read())\n",
    "    print response['response']['numFound'], \"documents found.\"\n",
    " \n",
    "    # Print the name of documents.\n",
    "    if (len(response['response']['docs']) > 0) :\n",
    "        print str(num)+ \" documents are : \"\n",
    "        doc_num=1\n",
    "        for document in response['response']['docs']:\n",
    "            doc=str(document['resourcename']).split(\"\\\\\")\n",
    "            print \"Document\"+ str(doc_num) + \" : \" + doc[-1][:-2]\n",
    "            doc_num+=1\n",
    "    else : \n",
    "        print \"Sorry no Documents found\""
   ]
  },
  {
   "cell_type": "markdown",
   "metadata": {},
   "source": [
    "## Document Search using SOLR"
   ]
  },
  {
   "cell_type": "markdown",
   "metadata": {},
   "source": [
    "### Searching documents with a single word using SOLR"
   ]
  },
  {
   "cell_type": "markdown",
   "metadata": {},
   "source": [
    "#### Example\n",
    "\n",
    "#### \"Dog\" gives all the documents that have the word \"Dog\" in it"
   ]
  },
  {
   "cell_type": "code",
   "execution_count": 2,
   "metadata": {
    "collapsed": false
   },
   "outputs": [
    {
     "name": "stdout",
     "output_type": "stream",
     "text": [
      "What do you want to search?? Dog\n",
      "Enter number of documents you want to see 5\n",
      "140 documents found.\n",
      "5 documents are : \n",
      "Document1 : 104519.txt\n",
      "Document2 : 104357.txt\n",
      "Document3 : 104354.txt\n",
      "Document4 : 104403.txt\n",
      "Document5 : 104833.txt\n"
     ]
    }
   ],
   "source": [
    "input=raw_input(\"What do you want to search?? \")\n",
    "num = raw_input(\"Enter number of documents you want to see \")\n",
    "search=input\n",
    "num=int(num)\n",
    "querying(search,num)"
   ]
  },
  {
   "cell_type": "markdown",
   "metadata": {},
   "source": [
    "### Searching documents with multiple words using SOLR\n",
    "### Example :\n",
    "##### \"Dog Cat Pillow\" gives a list of all documents containing \"Dog\" or \"Cat\" or \"Pillow\""
   ]
  },
  {
   "cell_type": "code",
   "execution_count": 3,
   "metadata": {
    "collapsed": false
   },
   "outputs": [
    {
     "name": "stdout",
     "output_type": "stream",
     "text": [
      "Enter the words separated by space\n",
      "What words do you want to search ?? Dog Cat Pillow\n",
      "Enter number of documents you want to see 5\n",
      "306 documents found.\n",
      "5 documents are : \n",
      "Document1 : 104850.txt\n",
      "Document2 : 104519.txt\n",
      "Document3 : 104357.txt\n",
      "Document4 : 104354.txt\n",
      "Document5 : 104403.txt\n"
     ]
    }
   ],
   "source": [
    "print \"Enter the words separated by space\"\n",
    "input=raw_input(\"What words do you want to search ?? \")\n",
    "num = raw_input(\"Enter number of documents you want to see \")\n",
    "search=input.split()\n",
    "pos=\"\"\n",
    "for i in search :\n",
    "    pos = pos+\"+\"+i\n",
    "num=int(num)\n",
    "querying(pos,num)"
   ]
  },
  {
   "cell_type": "markdown",
   "metadata": {},
   "source": [
    "### Searching documents with phrases using SOLR"
   ]
  },
  {
   "cell_type": "markdown",
   "metadata": {},
   "source": [
    "#### Example :\n",
    "\n",
    "##### \"I am\" gives a list of all documents containing \"I am\""
   ]
  },
  {
   "cell_type": "code",
   "execution_count": 4,
   "metadata": {
    "collapsed": false
   },
   "outputs": [
    {
     "name": "stdout",
     "output_type": "stream",
     "text": [
      "Enter the words separated by space\n",
      "What the phrase you want to search ?? I am\n",
      "Enter number of documents you want to see 5\n",
      "3365 documents found.\n",
      "5 documents are : \n",
      "Document1 : 84205.txt\n",
      "Document2 : 76542.txt\n",
      "Document3 : 76594.txt\n",
      "Document4 : 54243.txt\n",
      "Document5 : 20583.txt\n"
     ]
    }
   ],
   "source": [
    "print \"Enter the words separated by space\"\n",
    "input=raw_input(\"What the phrase you want to search ?? \")\n",
    "num = raw_input(\"Enter number of documents you want to see \")\n",
    "search=input.split()\n",
    "pos=\"\"\n",
    "for i in search :\n",
    "    pos = pos+\"%20\"+i\n",
    "pos = \"\\\"\"+ pos +\"\\\"\"\n",
    "num=int(num)\n",
    "querying(pos,num)"
   ]
  },
  {
   "cell_type": "markdown",
   "metadata": {},
   "source": [
    "### Searching documents with combination of words using SOLR\n",
    "\n",
    "#### This searches for documents where certain words are present together or not"
   ]
  },
  {
   "cell_type": "markdown",
   "metadata": {},
   "source": [
    "#### Example :\n",
    "\n",
    "##### Present : \"Dog Cat Pillow\"\n",
    "##### Not Present : \"Master\"\n",
    "##### Gives all documents where \"Dog\" and \"Cat\" and \"Pillow\" are present but \"Master\" is not present"
   ]
  },
  {
   "cell_type": "code",
   "execution_count": 5,
   "metadata": {
    "collapsed": false
   },
   "outputs": [
    {
     "name": "stdout",
     "output_type": "stream",
     "text": [
      "Enter the words separated by space\n",
      "What are the words you want to be present ?? Dog Cat Pillow\n",
      "What are the words you want not to be present ?? Master\n",
      "Enter number of documents you want to see 5\n",
      "\n",
      "Present : Dog Cat Pillow\n",
      "Not Present : Master\n",
      "480 documents found.\n",
      "5 documents are : \n",
      "Document1 : 104850.txt\n",
      "Document2 : 103448.txt\n",
      "Document3 : 104519.txt\n",
      "Document4 : 104357.txt\n",
      "Document5 : 104354.txt\n"
     ]
    }
   ],
   "source": [
    "print \"Enter the words separated by space\"\n",
    "input1=raw_input(\"What are the words you want to be present ?? \")\n",
    "input2=raw_input(\"What are the words you want not to be present ?? \")\n",
    "num = raw_input(\"Enter number of documents you want to see \")\n",
    "print \"\\nPresent : \"+ input1\n",
    "print \"Not Present : \" + input2\n",
    "search1=input1.split()\n",
    "pos=\"\"\n",
    "for i in search1 :\n",
    "    pos = pos+\"+%20\"+i\n",
    "search2=input2.split()\n",
    "for i in search2 :\n",
    "    pos = pos+\"-%20\"+i\n",
    "num=int(num)\n",
    "querying(pos,num)"
   ]
  }
 ],
 "metadata": {
  "anaconda-cloud": {},
  "kernelspec": {
   "display_name": "Python [Root]",
   "language": "python",
   "name": "Python [Root]"
  },
  "language_info": {
   "codemirror_mode": {
    "name": "ipython",
    "version": 2
   },
   "file_extension": ".py",
   "mimetype": "text/x-python",
   "name": "python",
   "nbconvert_exporter": "python",
   "pygments_lexer": "ipython2",
   "version": "2.7.12"
  }
 },
 "nbformat": 4,
 "nbformat_minor": 0
}
